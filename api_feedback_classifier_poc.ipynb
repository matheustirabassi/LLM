{
  "cells": [
    {
      "cell_type": "code",
      "execution_count": 1,
      "metadata": {
        "id": "KcsoIEaBZE5m"
      },
      "outputs": [],
      "source": [
        "!pip install -q U google-generativeai"
      ]
    },
    {
      "cell_type": "code",
      "execution_count": 2,
      "metadata": {
        "id": "eT9s0KdXIUqu"
      },
      "outputs": [],
      "source": [
        "import google.generativeai as gen_ai\n",
        "from google.colab import userdata"
      ]
    },
    {
      "cell_type": "code",
      "execution_count": 3,
      "metadata": {
        "id": "Urj22bZ0WU0K"
      },
      "outputs": [],
      "source": [
        "gen_ai.configure(api_key = userdata.get('API_KEY'))"
      ]
    },
    {
      "cell_type": "code",
      "execution_count": 4,
      "metadata": {
        "id": "l4tPhBRGWWwv"
      },
      "outputs": [],
      "source": [
        "generation_config = {\n",
        "  \"temperature\": 0.2,\n",
        "  \"top_p\": 0.95,\n",
        "  \"top_k\": 0,\n",
        "  \"max_output_tokens\": 8192,\n",
        "}"
      ]
    },
    {
      "cell_type": "code",
      "execution_count": 5,
      "metadata": {
        "id": "yHRoShUIWaOU"
      },
      "outputs": [],
      "source": [
        "safety_settings = [\n",
        "  {\n",
        "    \"category\": \"HARM_CATEGORY_HARASSMENT\",\n",
        "    \"threshold\": \"BLOCK_MEDIUM_AND_ABOVE\"\n",
        "  },\n",
        "  {\n",
        "    \"category\": \"HARM_CATEGORY_HATE_SPEECH\",\n",
        "    \"threshold\": \"BLOCK_MEDIUM_AND_ABOVE\"\n",
        "  },\n",
        "  {\n",
        "    \"category\": \"HARM_CATEGORY_SEXUALLY_EXPLICIT\",\n",
        "    \"threshold\": \"BLOCK_MEDIUM_AND_ABOVE\"\n",
        "  },\n",
        "  {\n",
        "    \"category\": \"HARM_CATEGORY_DANGEROUS_CONTENT\",\n",
        "    \"threshold\": \"BLOCK_MEDIUM_AND_ABOVE\"\n",
        "  },\n",
        "]"
      ]
    },
    {
      "cell_type": "code",
      "execution_count": 6,
      "metadata": {
        "id": "yMdgzIAEWcxA"
      },
      "outputs": [],
      "source": [
        "model_choosen = gen_ai.GenerativeModel(model_name=\"gemini-1.0-pro\",\n",
        "                              generation_config=generation_config,\n",
        "                              safety_settings=safety_settings)"
      ]
    },
    {
      "cell_type": "code",
      "execution_count": 22,
      "metadata": {
        "id": "T0j8WjFQVjTp"
      },
      "outputs": [],
      "source": [
        "persona = \"Você é um gerente técnico da área de produtos. Você sempre presta atenção aos detalhes.\\n\"\n",
        "instructions = \"Quero que você avalie um feedback. O feedback é sobre um produto escrito por um cliente. Quero que avalie os pontos positivos e negativos e dê uma nota. Sendo que os pontos positivos e negativos deve ser exibidos em formato de lista e a nota um valor numérico, sendo que o mais negativo é 0 e mais positivo é 5.\"\n",
        "prompt_parts = [\n",
        "  persona + instructions,\n",
        "  \"Feedback Mesmo pelo prazo curto e complexidade do nosso negócio, a Widget Apps conseguiu compreender tudo com muita agilidade e profissionalismo. Sem dúvida indicaria o seu serviço de nuvem.\",\n",
        "  \"Resposta {  \\\"feedback_result\\\": 5,  \\\"positive_points\\\": [\\\"O problema foi resolvido em prazo curto .\\\", \\\"O problema foi compreendido com muita agilidade e profissionalismo.\\\"],  \\\"negative_points\\\": []}\",\n",
        "  \"Feedback Entrei em contato com a Kron Base para comprar materiais para construção, porém tive dificuldade para encomendar os materiais. Mas pelo menos o transporte foi muito rápido, chegou em algumas horas.\",\n",
        "  \"Resposta {  \\\"feedback_result\\\": 3,  \\\"positive_points\\\": [\\\"O transporte do material foi rápido .\\\"],  \\\"negative_points\\\": [\\\"O cliente teve dificuldade para encomendar os materiais\\\"]}\",\n",
        "  \"Feedback Pedi um harmburguer x-tudo na Ana Lanches mas o tempo de demora foi de 2 horas, um ABSURDO! ESTOU MUITO TRISTE E COM FOME!\",\n",
        "  \"Resposta {  \\\"feedback_result\\\": 0,  \\\"positive_points\\\": [],  \\\"negative_points\\\": [\\\"O lanche demorou muito para chegar ao cliente.\\\", \\\"O cliente ficou muito descontente.\\\"]}\",\n",
        "  \"Feedback Antes de começarmos a  usar o Delighted, enviávamos pesquisas de NPS por e-mail que ficavam paradas nas caixas de entrada de nossos clientes. Nossas taxas de resposta eram tão baixas que não conseguíamos obter uma pontuação precisa de NPS com alta probabilidade. Percebemos que precisávamos incorporar a pesquisa ao fluxo de trabalho normal de nossos  clientes e tornar muito fácil dar feedback.Com o Delighted, uma pergunta pop-up é exibida no site e nossos usuários podem respondê-la com um único clique.Após talvez 10 dias, tivemos seis vezes as respostas que tínhamos tido nos últimos seis meses. Isso fez uma enorme diferença, e agora NPS (Net Promoter Score) é algo em que participamos ativamente para melhorar em todo o negócio.\",\n",
        "  \"Resposta {  \\\"feedback_result\\\": 5,  \\\"positive_points\\\": [\\\"Usuário consegue responder mais facilmente.\\\", \\\"Obteve uma alta quantidade de respostas.\\\", \\\"Obteve seis vezes mais resposta do que nos últimos seis meses.\\\"],  \\\"negative_points\\\": []}\",\n",
        "]"
      ]
    },
    {
      "cell_type": "code",
      "execution_count": null,
      "metadata": {
        "colab": {
          "base_uri": "https://localhost:8080/",
          "height": 53
        },
        "id": "yCzGz9dVWeav",
        "outputId": "6b210d00-ae7a-49a2-8f91-b814e8cd9543"
      },
      "outputs": [],
      "source": [
        "new_feedback = \"Feedback \" + input(\"Feedback: \")\n",
        "\n",
        "prompt_parts.append(new_feedback)\n",
        "prompt_parts.append(\"Resposta \")\n",
        "\n",
        "response = model_choosen.generate_content(prompt_parts)\n",
        "\n",
        "prompt_parts.pop()\n",
        "prompt_parts.pop()\n",
        "\n",
        "print(\"Resposta: \" + response.text)"
      ]
    }
  ],
  "metadata": {
    "colab": {
      "provenance": []
    },
    "kernelspec": {
      "display_name": "Python 3",
      "name": "python3"
    },
    "language_info": {
      "name": "python"
    }
  },
  "nbformat": 4,
  "nbformat_minor": 0
}
