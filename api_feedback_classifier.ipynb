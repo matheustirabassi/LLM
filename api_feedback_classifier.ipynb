{
  "nbformat": 4,
  "nbformat_minor": 0,
  "metadata": {
    "colab": {
      "provenance": []
    },
    "kernelspec": {
      "name": "python3",
      "display_name": "Python 3"
    },
    "language_info": {
      "name": "python"
    }
  },
  "cells": [
    {
      "cell_type": "code",
      "source": [
        "!pip install -q U google-generativeai"
      ],
      "metadata": {
        "id": "KcsoIEaBZE5m"
      },
      "execution_count": 1,
      "outputs": []
    },
    {
      "cell_type": "code",
      "execution_count": 2,
      "metadata": {
        "id": "eT9s0KdXIUqu"
      },
      "outputs": [],
      "source": [
        "import google.generativeai as gen_ai\n",
        "from google.colab import userdata"
      ]
    },
    {
      "cell_type": "code",
      "source": [
        "gen_ai.configure(api_key = userdata.get('API_KEY'))"
      ],
      "metadata": {
        "id": "Urj22bZ0WU0K"
      },
      "execution_count": 3,
      "outputs": []
    },
    {
      "cell_type": "code",
      "source": [
        "generation_config = {\n",
        "  \"temperature\": 0.2\n",
        "}"
      ],
      "metadata": {
        "id": "l4tPhBRGWWwv"
      },
      "execution_count": 4,
      "outputs": []
    },
    {
      "cell_type": "code",
      "source": [
        "safety_settings = [\n",
        "  {\n",
        "    \"category\": \"HARM_CATEGORY_HARASSMENT\",\n",
        "    \"threshold\": \"BLOCK_MEDIUM_AND_ABOVE\"\n",
        "  },\n",
        "  {\n",
        "    \"category\": \"HARM_CATEGORY_HATE_SPEECH\",\n",
        "    \"threshold\": \"BLOCK_MEDIUM_AND_ABOVE\"\n",
        "  },\n",
        "  {\n",
        "    \"category\": \"HARM_CATEGORY_SEXUALLY_EXPLICIT\",\n",
        "    \"threshold\": \"BLOCK_MEDIUM_AND_ABOVE\"\n",
        "  },\n",
        "  {\n",
        "    \"category\": \"HARM_CATEGORY_DANGEROUS_CONTENT\",\n",
        "    \"threshold\": \"BLOCK_MEDIUM_AND_ABOVE\"\n",
        "  },\n",
        "]"
      ],
      "metadata": {
        "id": "yHRoShUIWaOU"
      },
      "execution_count": 5,
      "outputs": []
    },
    {
      "cell_type": "code",
      "source": [
        "model_choosen = gen_ai.GenerativeModel(model_name=\"gemini-1.0-pro\",\n",
        "                              generation_config=generation_config,\n",
        "                              safety_settings=safety_settings)"
      ],
      "metadata": {
        "id": "yMdgzIAEWcxA"
      },
      "execution_count": 6,
      "outputs": []
    },
    {
      "cell_type": "code",
      "source": [
        "persona = \"Você é um gerente técnico da área de produtos. Você sempre presta atenção aos detalhes.\\n\"\n",
        "instructions = \"Quero que você avalie um feedback. O feedback é sobre um produto escrito por um cliente. Quero que avalie os pontos positivos e negativos e dê uma nota. Sendo que os pontos positivos e negativos deve ser exibidos em formato de lista e a nota um valor numérico, sendo que o mais negativo é 0 e mais positivo é 5.\"\n",
        "prompt_parts = [\n",
        "  persona + instructions,\n",
        "  \"Feedback Mesmo pelo prazo curto e complexidade do nosso negócio, a Widget Apps conseguiu compreender tudo com muita agilidade e profissionalismo. Sem dúvida indicaria o seu serviço de nuvem.\",\n",
        "  \"Resposta {  \\\"feedback_result\\\": 5,  \\\"positive_points\\\": [\\\"O problema foi resolvido em prazo curto .\\\", \\\"O problema foi compreendido com muita agilidade e profissionalismo.\\\"],  \\\"negative_points\\\": []}\",\n",
        "  \"Feedback Entrei em contato com a Kron Base para comprar materiais para construção, porém tive dificuldade para encomendar os materiais. Mas pelo menos o transporte foi muito rápido, chegou em algumas horas.\",\n",
        "  \"Resposta {  \\\"feedback_result\\\": 3,  \\\"positive_points\\\": [\\\"O transporte do material foi rápido .\\\"],  \\\"negative_points\\\": [\\\"O cliente teve dificuldade para encomendar os materiais\\\"]}\",\n",
        "  \"Feedback Pedi um harmburguer x-tudo na Ana Lanches mas o tempo de demora foi de 2 horas, um ABSURDO! ESTOU MUITO TRISTE E COM FOME!\",\n",
        "  \"Resposta {  \\\"feedback_result\\\": 0,  \\\"positive_points\\\": [],  \\\"negative_points\\\": [\\\"O lanche demorou muito para chegar ao cliente.\\\", \\\"O cliente ficou muito descontente.\\\"]}\",\n",
        "  \"Feedback Antes de começarmos a  usar o Delighted, enviávamos pesquisas de NPS por e-mail que ficavam paradas nas caixas de entrada de nossos clientes. Nossas taxas de resposta eram tão baixas que não conseguíamos obter uma pontuação precisa de NPS com alta probabilidade. Percebemos que precisávamos incorporar a pesquisa ao fluxo de trabalho normal de nossos  clientes e tornar muito fácil dar feedback.Com o Delighted, uma pergunta pop-up é exibida no site e nossos usuários podem respondê-la com um único clique.Após talvez 10 dias, tivemos seis vezes as respostas que tínhamos tido nos últimos seis meses. Isso fez uma enorme diferença, e agora NPS (Net Promoter Score) é algo em que participamos ativamente para melhorar em todo o negócio.\",\n",
        "  \"Resposta {  \\\"feedback_result\\\": 5,  \\\"positive_points\\\": [\\\"Usuário consegue responder mais facilmente.\\\", \\\"Obteve uma alta quantidade de respostas.\\\", \\\"Obteve seis vezes mais resposta do que nos últimos seis meses.\\\"],  \\\"negative_points\\\": []}\",\n",
        "]"
      ],
      "metadata": {
        "id": "T0j8WjFQVjTp"
      },
      "execution_count": 7,
      "outputs": []
    },
    {
      "cell_type": "code",
      "source": [
        "new_feedback = \"Feedback \" + input(\"Feedback: \")\n",
        "\n",
        "prompt_parts.append(new_feedback)\n",
        "prompt_parts.append(\"Resposta \")\n",
        "\n",
        "response = model_choosen.generate_content(prompt_parts)\n",
        "\n",
        "prompt_parts.pop()\n",
        "prompt_parts.pop()\n",
        "\n",
        "print(\"Resposta: \" + response.text)"
      ],
      "metadata": {
        "id": "yCzGz9dVWeav"
      },
      "execution_count": null,
      "outputs": []
    }
  ]
}